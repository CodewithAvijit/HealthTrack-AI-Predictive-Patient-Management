{
 "cells": [
  {
   "cell_type": "code",
   "execution_count": 1,
   "id": "26cb1df2",
   "metadata": {},
   "outputs": [],
   "source": [
    "import pandas as pd\n",
    "import os\n",
    "import mlflow\n",
    "import mlflow.sklearn\n",
    "from sklearn.preprocessing import OrdinalEncoder,StandardScaler\n",
    "from sklearn.compose import ColumnTransformer\n",
    "from sklearn.feature_selection import f_classif,SelectKBest\n",
    "from sklearn.pipeline import Pipeline"
   ]
  },
  {
   "cell_type": "code",
   "execution_count": 3,
   "id": "c1bbbac4",
   "metadata": {},
   "outputs": [],
   "source": [
    "def load_data(path):\n",
    "    data=pd.read_csv(path)\n",
    "    return data\n",
    "\n",
    "def save_data(data,path):\n",
    "    dirname=\"TEST\"\n",
    "    dirpath=os.path.join(path,dirname)\n",
    "    os.makedirs(dirpath)\n",
    "    data.to_csv(os.path.join(dirpath,\"TRAIN.csv\"),index=False)"
   ]
  },
  {
   "cell_type": "code",
   "execution_count": 12,
   "id": "3b3d35db",
   "metadata": {},
   "outputs": [],
   "source": [
    "data=load_data(r\"C:\\Users\\Avijit\\Desktop\\TEST\\data\\healthcare_dataset.csv\")"
   ]
  },
  {
   "cell_type": "code",
   "execution_count": 13,
   "id": "9b5912ea",
   "metadata": {},
   "outputs": [
    {
     "data": {
      "text/plain": [
       "['Name',\n",
       " 'Age',\n",
       " 'Gender',\n",
       " 'Blood Type',\n",
       " 'Medical Condition',\n",
       " 'Date of Admission',\n",
       " 'Doctor',\n",
       " 'Hospital',\n",
       " 'Insurance Provider',\n",
       " 'Billing Amount',\n",
       " 'Room Number',\n",
       " 'Admission Type',\n",
       " 'Discharge Date',\n",
       " 'Medication',\n",
       " 'Test Results']"
      ]
     },
     "execution_count": 13,
     "metadata": {},
     "output_type": "execute_result"
    }
   ],
   "source": [
    "data.columns.tolist()"
   ]
  },
  {
   "cell_type": "code",
   "execution_count": 14,
   "id": "c421a552",
   "metadata": {},
   "outputs": [],
   "source": [
    "data=data.drop(columns=['Name',\n",
    " 'Date of Admission',\n",
    " 'Hospital',\n",
    " 'Insurance Provider',\n",
    " 'Admission Type',\n",
    " 'Discharge Date'])"
   ]
  },
  {
   "cell_type": "code",
   "execution_count": 15,
   "id": "d74b7589",
   "metadata": {},
   "outputs": [],
   "source": [
    "data.to_csv(r\"C:\\Users\\Avijit\\Desktop\\TEST\\data\\healthcare_dataset.csv\",index=False)"
   ]
  },
  {
   "cell_type": "code",
   "execution_count": 75,
   "id": "384a3f0a",
   "metadata": {},
   "outputs": [],
   "source": [
    "def processing_data(data):\n",
    "    numcol=data.select_dtypes(include=['number']).columns.tolist()\n",
    "    catcol=data.select_dtypes(include=['object']).columns.tolist()\n",
    "    catpipe=Pipeline(steps=[(\"LABELENCODING\",OrdinalEncoder())])\n",
    "    numpipe=Pipeline(steps=[(\"SCALING\",StandardScaler())])\n",
    "    mergepipe=ColumnTransformer(transformers=[(\"CATEGORICAL_DATA\",catpipe,catcol),(\"NUMERICAL_DATA\",numpipe,numcol)],remainder=\"passthrough\")\n",
    "    finalpipe=Pipeline(steps=[('DATA_PROCESSING',mergepipe)])\n",
    "    df=finalpipe.fit_transform(data)\n",
    "    df1=pd.DataFrame(df,columns=catcol+numcol)\n",
    "    temp=df1.pop(\"Test Results\")\n",
    "    df1.insert(len(df1.columns.tolist()),\"Test Results\",temp)\n",
    "    return df1"
   ]
  },
  {
   "cell_type": "code",
   "execution_count": 76,
   "id": "223d16e3",
   "metadata": {},
   "outputs": [],
   "source": [
    "df=processing_data(data)"
   ]
  },
  {
   "cell_type": "code",
   "execution_count": 78,
   "id": "388fb7ef",
   "metadata": {},
   "outputs": [],
   "source": [
    "x=df.iloc[:,:-1]\n",
    "y=df.iloc[:,-1:]"
   ]
  },
  {
   "cell_type": "code",
   "execution_count": 83,
   "id": "ba04a6e8",
   "metadata": {},
   "outputs": [],
   "source": [
    "fc=SelectKBest(score_func=f_classif,k=4)"
   ]
  },
  {
   "cell_type": "code",
   "execution_count": 84,
   "id": "30c7a026",
   "metadata": {},
   "outputs": [
    {
     "name": "stderr",
     "output_type": "stream",
     "text": [
      "d:\\HEALTHCARE\\venv\\lib\\site-packages\\sklearn\\utils\\validation.py:1406: DataConversionWarning: A column-vector y was passed when a 1d array was expected. Please change the shape of y to (n_samples, ), for example using ravel().\n",
      "  y = column_or_1d(y, warn=True)\n"
     ]
    }
   ],
   "source": [
    "f1=fc.fit_transform(x,y)"
   ]
  },
  {
   "cell_type": "code",
   "execution_count": 86,
   "id": "da037c50",
   "metadata": {},
   "outputs": [],
   "source": [
    "dff=pd.DataFrame(f1,columns=x.columns[fc.get_support()])"
   ]
  },
  {
   "cell_type": "code",
   "execution_count": 88,
   "id": "9ea1a96f",
   "metadata": {},
   "outputs": [],
   "source": [
    "dff=pd.concat([dff,y],axis=1)"
   ]
  },
  {
   "cell_type": "code",
   "execution_count": 89,
   "id": "b3018e44",
   "metadata": {},
   "outputs": [
    {
     "data": {
      "text/html": [
       "<div>\n",
       "<style scoped>\n",
       "    .dataframe tbody tr th:only-of-type {\n",
       "        vertical-align: middle;\n",
       "    }\n",
       "\n",
       "    .dataframe tbody tr th {\n",
       "        vertical-align: top;\n",
       "    }\n",
       "\n",
       "    .dataframe thead th {\n",
       "        text-align: right;\n",
       "    }\n",
       "</style>\n",
       "<table border=\"1\" class=\"dataframe\">\n",
       "  <thead>\n",
       "    <tr style=\"text-align: right;\">\n",
       "      <th></th>\n",
       "      <th>Gender</th>\n",
       "      <th>Medication</th>\n",
       "      <th>Age</th>\n",
       "      <th>Billing Amount</th>\n",
       "      <th>Test Results</th>\n",
       "    </tr>\n",
       "  </thead>\n",
       "  <tbody>\n",
       "    <tr>\n",
       "      <th>0</th>\n",
       "      <td>1.0</td>\n",
       "      <td>3.0</td>\n",
       "      <td>-1.098824</td>\n",
       "      <td>-0.470261</td>\n",
       "      <td>2.0</td>\n",
       "    </tr>\n",
       "    <tr>\n",
       "      <th>1</th>\n",
       "      <td>1.0</td>\n",
       "      <td>1.0</td>\n",
       "      <td>0.533639</td>\n",
       "      <td>0.570250</td>\n",
       "      <td>1.0</td>\n",
       "    </tr>\n",
       "    <tr>\n",
       "      <th>2</th>\n",
       "      <td>0.0</td>\n",
       "      <td>0.0</td>\n",
       "      <td>1.247842</td>\n",
       "      <td>0.169990</td>\n",
       "      <td>2.0</td>\n",
       "    </tr>\n",
       "    <tr>\n",
       "      <th>3</th>\n",
       "      <td>0.0</td>\n",
       "      <td>1.0</td>\n",
       "      <td>-1.200853</td>\n",
       "      <td>0.870465</td>\n",
       "      <td>0.0</td>\n",
       "    </tr>\n",
       "    <tr>\n",
       "      <th>4</th>\n",
       "      <td>0.0</td>\n",
       "      <td>4.0</td>\n",
       "      <td>-0.435636</td>\n",
       "      <td>-0.795211</td>\n",
       "      <td>0.0</td>\n",
       "    </tr>\n",
       "    <tr>\n",
       "      <th>...</th>\n",
       "      <td>...</td>\n",
       "      <td>...</td>\n",
       "      <td>...</td>\n",
       "      <td>...</td>\n",
       "      <td>...</td>\n",
       "    </tr>\n",
       "    <tr>\n",
       "      <th>55495</th>\n",
       "      <td>0.0</td>\n",
       "      <td>4.0</td>\n",
       "      <td>-0.486651</td>\n",
       "      <td>-1.610589</td>\n",
       "      <td>0.0</td>\n",
       "    </tr>\n",
       "    <tr>\n",
       "      <th>55496</th>\n",
       "      <td>0.0</td>\n",
       "      <td>0.0</td>\n",
       "      <td>0.482625</td>\n",
       "      <td>0.416462</td>\n",
       "      <td>2.0</td>\n",
       "    </tr>\n",
       "    <tr>\n",
       "      <th>55497</th>\n",
       "      <td>0.0</td>\n",
       "      <td>1.0</td>\n",
       "      <td>-0.690708</td>\n",
       "      <td>0.146464</td>\n",
       "      <td>0.0</td>\n",
       "    </tr>\n",
       "    <tr>\n",
       "      <th>55498</th>\n",
       "      <td>1.0</td>\n",
       "      <td>1.0</td>\n",
       "      <td>-0.435636</td>\n",
       "      <td>0.486357</td>\n",
       "      <td>0.0</td>\n",
       "    </tr>\n",
       "    <tr>\n",
       "      <th>55499</th>\n",
       "      <td>0.0</td>\n",
       "      <td>1.0</td>\n",
       "      <td>0.074509</td>\n",
       "      <td>-1.514931</td>\n",
       "      <td>0.0</td>\n",
       "    </tr>\n",
       "  </tbody>\n",
       "</table>\n",
       "<p>55500 rows × 5 columns</p>\n",
       "</div>"
      ],
      "text/plain": [
       "       Gender  Medication       Age  Billing Amount  Test Results\n",
       "0         1.0         3.0 -1.098824       -0.470261           2.0\n",
       "1         1.0         1.0  0.533639        0.570250           1.0\n",
       "2         0.0         0.0  1.247842        0.169990           2.0\n",
       "3         0.0         1.0 -1.200853        0.870465           0.0\n",
       "4         0.0         4.0 -0.435636       -0.795211           0.0\n",
       "...       ...         ...       ...             ...           ...\n",
       "55495     0.0         4.0 -0.486651       -1.610589           0.0\n",
       "55496     0.0         0.0  0.482625        0.416462           2.0\n",
       "55497     0.0         1.0 -0.690708        0.146464           0.0\n",
       "55498     1.0         1.0 -0.435636        0.486357           0.0\n",
       "55499     0.0         1.0  0.074509       -1.514931           0.0\n",
       "\n",
       "[55500 rows x 5 columns]"
      ]
     },
     "execution_count": 89,
     "metadata": {},
     "output_type": "execute_result"
    }
   ],
   "source": [
    "dff"
   ]
  },
  {
   "cell_type": "code",
   "execution_count": 90,
   "id": "f91a7e17",
   "metadata": {},
   "outputs": [],
   "source": [
    "from xgboost import XGBClassifier\n",
    "\n",
    "xg=XGBClassifier()"
   ]
  },
  {
   "cell_type": "code",
   "execution_count": null,
   "id": "a86bdf7a",
   "metadata": {},
   "outputs": [],
   "source": []
  }
 ],
 "metadata": {
  "kernelspec": {
   "display_name": "Python 3",
   "language": "python",
   "name": "python3"
  },
  "language_info": {
   "codemirror_mode": {
    "name": "ipython",
    "version": 3
   },
   "file_extension": ".py",
   "mimetype": "text/x-python",
   "name": "python",
   "nbconvert_exporter": "python",
   "pygments_lexer": "ipython3",
   "version": "3.10.11"
  }
 },
 "nbformat": 4,
 "nbformat_minor": 5
}
