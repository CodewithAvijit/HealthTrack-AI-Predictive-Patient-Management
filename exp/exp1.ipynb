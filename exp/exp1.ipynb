{
 "cells": [
  {
   "cell_type": "code",
   "execution_count": 2,
   "id": "26cb1df2",
   "metadata": {},
   "outputs": [],
   "source": [
    "import pandas as pd\n",
    "import os\n",
    "import mlflow\n",
    "import mlflow.sklearn\n",
    "from sklearn.preprocessing import OrdinalEncoder,StandardScaler\n",
    "from sklearn.compose import ColumnTransformer\n",
    "from sklearn.feature_selection import f_classif,SelectKBest\n",
    "from sklearn.pipeline import Pipeline"
   ]
  },
  {
   "cell_type": "code",
   "execution_count": 3,
   "id": "c1bbbac4",
   "metadata": {},
   "outputs": [],
   "source": [
    "def load_data(path):\n",
    "    data=pd.read_csv(path)\n",
    "    return data\n",
    "\n",
    "def save_data(data,path):\n",
    "    dirname=\"TEST\"\n",
    "    dirpath=os.path.join(path,dirname)\n",
    "    os.makedirs(dirpath)\n",
    "    data.to_csv(os.path.join(dirpath,\"TRAIN.csv\"),index=False)"
   ]
  },
  {
   "cell_type": "code",
   "execution_count": 4,
   "id": "3b3d35db",
   "metadata": {},
   "outputs": [],
   "source": [
    "data=load_data(r\"C:\\Users\\Avijit\\Desktop\\TEST\\data\\healthcare_dataset.csv\")"
   ]
  },
  {
   "cell_type": "code",
   "execution_count": 5,
   "id": "08de6e6b",
   "metadata": {},
   "outputs": [],
   "source": [
    "del data['Doctor']"
   ]
  },
  {
   "cell_type": "code",
   "execution_count": 13,
   "id": "9b5912ea",
   "metadata": {},
   "outputs": [
    {
     "data": {
      "text/plain": [
       "['Name',\n",
       " 'Age',\n",
       " 'Gender',\n",
       " 'Blood Type',\n",
       " 'Medical Condition',\n",
       " 'Date of Admission',\n",
       " 'Doctor',\n",
       " 'Hospital',\n",
       " 'Insurance Provider',\n",
       " 'Billing Amount',\n",
       " 'Room Number',\n",
       " 'Admission Type',\n",
       " 'Discharge Date',\n",
       " 'Medication',\n",
       " 'Test Results']"
      ]
     },
     "execution_count": 13,
     "metadata": {},
     "output_type": "execute_result"
    }
   ],
   "source": [
    "data.columns.tolist()"
   ]
  },
  {
   "cell_type": "code",
   "execution_count": 14,
   "id": "c421a552",
   "metadata": {},
   "outputs": [],
   "source": [
    "data=data.drop(columns=['Name',\n",
    " 'Date of Admission',\n",
    " 'Hospital',\n",
    " 'Insurance Provider',\n",
    " 'Admission Type',\n",
    " 'Discharge Date'])"
   ]
  },
  {
   "cell_type": "code",
   "execution_count": 6,
   "id": "d74b7589",
   "metadata": {},
   "outputs": [],
   "source": [
    "data.to_csv(r\"C:\\Users\\Avijit\\Desktop\\TEST\\data\\healthcare_dataset.csv\",index=False)"
   ]
  },
  {
   "cell_type": "code",
   "execution_count": 75,
   "id": "384a3f0a",
   "metadata": {},
   "outputs": [],
   "source": [
    "def processing_data(data):\n",
    "    numcol=data.select_dtypes(include=['number']).columns.tolist()\n",
    "    catcol=data.select_dtypes(include=['object']).columns.tolist()\n",
    "    catpipe=Pipeline(steps=[(\"LABELENCODING\",OrdinalEncoder())])\n",
    "    numpipe=Pipeline(steps=[(\"SCALING\",StandardScaler())])\n",
    "    mergepipe=ColumnTransformer(transformers=[(\"CATEGORICAL_DATA\",catpipe,catcol),(\"NUMERICAL_DATA\",numpipe,numcol)],remainder=\"passthrough\")\n",
    "    finalpipe=Pipeline(steps=[('DATA_PROCESSING',mergepipe)])\n",
    "    df=finalpipe.fit_transform(data)\n",
    "    df1=pd.DataFrame(df,columns=catcol+numcol)\n",
    "    temp=df1.pop(\"Test Results\")\n",
    "    df1.insert(len(df1.columns.tolist()),\"Test Results\",temp)\n",
    "    return df1"
   ]
  },
  {
   "cell_type": "code",
   "execution_count": 76,
   "id": "223d16e3",
   "metadata": {},
   "outputs": [],
   "source": [
    "df=processing_data(data)"
   ]
  },
  {
   "cell_type": "code",
   "execution_count": 78,
   "id": "388fb7ef",
   "metadata": {},
   "outputs": [],
   "source": [
    "x=df.iloc[:,:-1]\n",
    "y=df.iloc[:,-1:]"
   ]
  },
  {
   "cell_type": "code",
   "execution_count": 83,
   "id": "ba04a6e8",
   "metadata": {},
   "outputs": [],
   "source": [
    "fc=SelectKBest(score_func=f_classif,k=4)"
   ]
  },
  {
   "cell_type": "code",
   "execution_count": 84,
   "id": "30c7a026",
   "metadata": {},
   "outputs": [
    {
     "name": "stderr",
     "output_type": "stream",
     "text": [
      "d:\\HEALTHCARE\\venv\\lib\\site-packages\\sklearn\\utils\\validation.py:1406: DataConversionWarning: A column-vector y was passed when a 1d array was expected. Please change the shape of y to (n_samples, ), for example using ravel().\n",
      "  y = column_or_1d(y, warn=True)\n"
     ]
    }
   ],
   "source": [
    "f1=fc.fit_transform(x,y)"
   ]
  },
  {
   "cell_type": "code",
   "execution_count": 86,
   "id": "da037c50",
   "metadata": {},
   "outputs": [],
   "source": [
    "dff=pd.DataFrame(f1,columns=x.columns[fc.get_support()])"
   ]
  },
  {
   "cell_type": "code",
   "execution_count": 88,
   "id": "9ea1a96f",
   "metadata": {},
   "outputs": [],
   "source": [
    "dff=pd.concat([dff,y],axis=1)"
   ]
  },
  {
   "cell_type": "code",
   "execution_count": 89,
   "id": "b3018e44",
   "metadata": {},
   "outputs": [
    {
     "data": {
      "text/html": [
       "<div>\n",
       "<style scoped>\n",
       "    .dataframe tbody tr th:only-of-type {\n",
       "        vertical-align: middle;\n",
       "    }\n",
       "\n",
       "    .dataframe tbody tr th {\n",
       "        vertical-align: top;\n",
       "    }\n",
       "\n",
       "    .dataframe thead th {\n",
       "        text-align: right;\n",
       "    }\n",
       "</style>\n",
       "<table border=\"1\" class=\"dataframe\">\n",
       "  <thead>\n",
       "    <tr style=\"text-align: right;\">\n",
       "      <th></th>\n",
       "      <th>Gender</th>\n",
       "      <th>Medication</th>\n",
       "      <th>Age</th>\n",
       "      <th>Billing Amount</th>\n",
       "      <th>Test Results</th>\n",
       "    </tr>\n",
       "  </thead>\n",
       "  <tbody>\n",
       "    <tr>\n",
       "      <th>0</th>\n",
       "      <td>1.0</td>\n",
       "      <td>3.0</td>\n",
       "      <td>-1.098824</td>\n",
       "      <td>-0.470261</td>\n",
       "      <td>2.0</td>\n",
       "    </tr>\n",
       "    <tr>\n",
       "      <th>1</th>\n",
       "      <td>1.0</td>\n",
       "      <td>1.0</td>\n",
       "      <td>0.533639</td>\n",
       "      <td>0.570250</td>\n",
       "      <td>1.0</td>\n",
       "    </tr>\n",
       "    <tr>\n",
       "      <th>2</th>\n",
       "      <td>0.0</td>\n",
       "      <td>0.0</td>\n",
       "      <td>1.247842</td>\n",
       "      <td>0.169990</td>\n",
       "      <td>2.0</td>\n",
       "    </tr>\n",
       "    <tr>\n",
       "      <th>3</th>\n",
       "      <td>0.0</td>\n",
       "      <td>1.0</td>\n",
       "      <td>-1.200853</td>\n",
       "      <td>0.870465</td>\n",
       "      <td>0.0</td>\n",
       "    </tr>\n",
       "    <tr>\n",
       "      <th>4</th>\n",
       "      <td>0.0</td>\n",
       "      <td>4.0</td>\n",
       "      <td>-0.435636</td>\n",
       "      <td>-0.795211</td>\n",
       "      <td>0.0</td>\n",
       "    </tr>\n",
       "    <tr>\n",
       "      <th>...</th>\n",
       "      <td>...</td>\n",
       "      <td>...</td>\n",
       "      <td>...</td>\n",
       "      <td>...</td>\n",
       "      <td>...</td>\n",
       "    </tr>\n",
       "    <tr>\n",
       "      <th>55495</th>\n",
       "      <td>0.0</td>\n",
       "      <td>4.0</td>\n",
       "      <td>-0.486651</td>\n",
       "      <td>-1.610589</td>\n",
       "      <td>0.0</td>\n",
       "    </tr>\n",
       "    <tr>\n",
       "      <th>55496</th>\n",
       "      <td>0.0</td>\n",
       "      <td>0.0</td>\n",
       "      <td>0.482625</td>\n",
       "      <td>0.416462</td>\n",
       "      <td>2.0</td>\n",
       "    </tr>\n",
       "    <tr>\n",
       "      <th>55497</th>\n",
       "      <td>0.0</td>\n",
       "      <td>1.0</td>\n",
       "      <td>-0.690708</td>\n",
       "      <td>0.146464</td>\n",
       "      <td>0.0</td>\n",
       "    </tr>\n",
       "    <tr>\n",
       "      <th>55498</th>\n",
       "      <td>1.0</td>\n",
       "      <td>1.0</td>\n",
       "      <td>-0.435636</td>\n",
       "      <td>0.486357</td>\n",
       "      <td>0.0</td>\n",
       "    </tr>\n",
       "    <tr>\n",
       "      <th>55499</th>\n",
       "      <td>0.0</td>\n",
       "      <td>1.0</td>\n",
       "      <td>0.074509</td>\n",
       "      <td>-1.514931</td>\n",
       "      <td>0.0</td>\n",
       "    </tr>\n",
       "  </tbody>\n",
       "</table>\n",
       "<p>55500 rows × 5 columns</p>\n",
       "</div>"
      ],
      "text/plain": [
       "       Gender  Medication       Age  Billing Amount  Test Results\n",
       "0         1.0         3.0 -1.098824       -0.470261           2.0\n",
       "1         1.0         1.0  0.533639        0.570250           1.0\n",
       "2         0.0         0.0  1.247842        0.169990           2.0\n",
       "3         0.0         1.0 -1.200853        0.870465           0.0\n",
       "4         0.0         4.0 -0.435636       -0.795211           0.0\n",
       "...       ...         ...       ...             ...           ...\n",
       "55495     0.0         4.0 -0.486651       -1.610589           0.0\n",
       "55496     0.0         0.0  0.482625        0.416462           2.0\n",
       "55497     0.0         1.0 -0.690708        0.146464           0.0\n",
       "55498     1.0         1.0 -0.435636        0.486357           0.0\n",
       "55499     0.0         1.0  0.074509       -1.514931           0.0\n",
       "\n",
       "[55500 rows x 5 columns]"
      ]
     },
     "execution_count": 89,
     "metadata": {},
     "output_type": "execute_result"
    }
   ],
   "source": [
    "dff"
   ]
  },
  {
   "cell_type": "code",
   "execution_count": 90,
   "id": "f91a7e17",
   "metadata": {},
   "outputs": [],
   "source": [
    "from xgboost import XGBClassifier\n",
    "\n",
    "xg=XGBClassifier()"
   ]
  },
  {
   "cell_type": "code",
   "execution_count": null,
   "id": "a86bdf7a",
   "metadata": {},
   "outputs": [],
   "source": [
    "Age,Gender,Blood Type,Medical Condition,Billing Amount,Room Number,Medication,Test Results\n",
    "57,Male,O+,Diabetes,3616.898449997269,339,Aspirin,Inconclusive"
   ]
  },
  {
   "cell_type": "code",
   "execution_count": 19,
   "id": "edcea6bd",
   "metadata": {},
   "outputs": [],
   "source": [
    "data = {\n",
    "    \"Age\": [57],\n",
    "    \"Gender\": [\"Male\"],\n",
    "    \"Blood Type\": [\"O+\"],\n",
    "    \"Medical Condition\": [\"Diabetes\"],\n",
    "    \"Billing Amount\": [3616.898449997269],\n",
    "    \"Room Number\": [339],\n",
    "    \"Medication\": [\"Aspirin\"]\n",
    "    # Excluding \"Test Results\"\n",
    "}\n",
    "\n",
    "# Create DataFrame\n",
    "df = pd.DataFrame(data)"
   ]
  },
  {
   "cell_type": "code",
   "execution_count": 20,
   "id": "67fa395a",
   "metadata": {},
   "outputs": [],
   "source": [
    "import joblib as jb\n",
    "pipe=jb.load(\"../processpipe/trainpipe.pkl\")"
   ]
  },
  {
   "cell_type": "code",
   "execution_count": 21,
   "id": "d253117c",
   "metadata": {},
   "outputs": [],
   "source": [
    "data=processing_data(df)"
   ]
  },
  {
   "cell_type": "code",
   "execution_count": 22,
   "id": "f708a494",
   "metadata": {},
   "outputs": [
    {
     "data": {
      "text/html": [
       "<div>\n",
       "<style scoped>\n",
       "    .dataframe tbody tr th:only-of-type {\n",
       "        vertical-align: middle;\n",
       "    }\n",
       "\n",
       "    .dataframe tbody tr th {\n",
       "        vertical-align: top;\n",
       "    }\n",
       "\n",
       "    .dataframe thead th {\n",
       "        text-align: right;\n",
       "    }\n",
       "</style>\n",
       "<table border=\"1\" class=\"dataframe\">\n",
       "  <thead>\n",
       "    <tr style=\"text-align: right;\">\n",
       "      <th></th>\n",
       "      <th>Age</th>\n",
       "      <th>Billing Amount</th>\n",
       "      <th>Room Number</th>\n",
       "      <th>Gender</th>\n",
       "      <th>Blood Type</th>\n",
       "      <th>Medical Condition</th>\n",
       "      <th>Medication</th>\n",
       "    </tr>\n",
       "  </thead>\n",
       "  <tbody>\n",
       "    <tr>\n",
       "      <th>0</th>\n",
       "      <td>0.0</td>\n",
       "      <td>0.0</td>\n",
       "      <td>0.0</td>\n",
       "      <td>0.0</td>\n",
       "      <td>0.0</td>\n",
       "      <td>0.0</td>\n",
       "      <td>0.0</td>\n",
       "    </tr>\n",
       "  </tbody>\n",
       "</table>\n",
       "</div>"
      ],
      "text/plain": [
       "   Age  Billing Amount  Room Number  Gender  Blood Type  Medical Condition  \\\n",
       "0  0.0             0.0          0.0     0.0         0.0                0.0   \n",
       "\n",
       "   Medication  \n",
       "0         0.0  "
      ]
     },
     "execution_count": 22,
     "metadata": {},
     "output_type": "execute_result"
    }
   ],
   "source": [
    "data"
   ]
  },
  {
   "cell_type": "code",
   "execution_count": 1,
   "id": "b0379a20",
   "metadata": {},
   "outputs": [],
   "source": [
    "import pandas as pd\n",
    "import joblib\n",
    "import os\n",
    "\n",
    "# Example new input\n",
    "data = {\n",
    "    \"Age\": [57],\n",
    "    \"Gender\": [\"Male\"],\n",
    "    \"Blood Type\": [\"O+\"],\n",
    "    \"Medical Condition\": [\"Diabetes\"],\n",
    "    \"Billing Amount\": [3616.898449997269],\n",
    "    \"Room Number\": [339],\n",
    "    \"Medication\": [\"Aspirin\"]\n",
    "}\n",
    "\n",
    "df = pd.DataFrame(data)\n",
    "col=df.columns.tolist()\n",
    "pipe_path = \"../processpipe/feature_pipe.pkl\"\n",
    "trainpipe = joblib.load(pipe_path)\n",
    "processed_df = trainpipe.transform(df)\n"
   ]
  },
  {
   "cell_type": "code",
   "execution_count": 36,
   "id": "7d5d1201",
   "metadata": {},
   "outputs": [],
   "source": [
    "processed_df=pd.DataFrame(processed_df,columns=col)"
   ]
  },
  {
   "cell_type": "code",
   "execution_count": 88,
   "id": "2727d6cc",
   "metadata": {},
   "outputs": [],
   "source": [
    "feature=pd.read_csv(\"../process/featured/train.csv\").columns.tolist()\n",
    "if \"Test Results\" in feature:\n",
    "    feature.remove(\"Test Results\")"
   ]
  },
  {
   "cell_type": "code",
   "execution_count": 92,
   "id": "03f5573a",
   "metadata": {},
   "outputs": [
    {
     "name": "stdout",
     "output_type": "stream",
     "text": [
      "['Gender' 'Blood Type' 'Age']\n"
     ]
    }
   ],
   "source": [
    "print(model.feature_names_in_)\n"
   ]
  },
  {
   "cell_type": "code",
   "execution_count": 63,
   "id": "016dc699",
   "metadata": {},
   "outputs": [
    {
     "data": {
      "text/html": [
       "<div>\n",
       "<style scoped>\n",
       "    .dataframe tbody tr th:only-of-type {\n",
       "        vertical-align: middle;\n",
       "    }\n",
       "\n",
       "    .dataframe tbody tr th {\n",
       "        vertical-align: top;\n",
       "    }\n",
       "\n",
       "    .dataframe thead th {\n",
       "        text-align: right;\n",
       "    }\n",
       "</style>\n",
       "<table border=\"1\" class=\"dataframe\">\n",
       "  <thead>\n",
       "    <tr style=\"text-align: right;\">\n",
       "      <th></th>\n",
       "      <th>Age</th>\n",
       "      <th>Gender</th>\n",
       "      <th>Blood Type</th>\n",
       "      <th>Medical Condition</th>\n",
       "      <th>Billing Amount</th>\n",
       "      <th>Room Number</th>\n",
       "      <th>Medication</th>\n",
       "    </tr>\n",
       "  </thead>\n",
       "  <tbody>\n",
       "    <tr>\n",
       "      <th>0</th>\n",
       "      <td>1.0</td>\n",
       "      <td>6.0</td>\n",
       "      <td>3.0</td>\n",
       "      <td>0.0</td>\n",
       "      <td>0.276298</td>\n",
       "      <td>-1.537734</td>\n",
       "      <td>0.327633</td>\n",
       "    </tr>\n",
       "  </tbody>\n",
       "</table>\n",
       "</div>"
      ],
      "text/plain": [
       "   Age  Gender  Blood Type  Medical Condition  Billing Amount  Room Number  \\\n",
       "0  1.0     6.0         3.0                0.0        0.276298    -1.537734   \n",
       "\n",
       "   Medication  \n",
       "0    0.327633  "
      ]
     },
     "execution_count": 63,
     "metadata": {},
     "output_type": "execute_result"
    }
   ],
   "source": [
    "processed_df"
   ]
  },
  {
   "cell_type": "code",
   "execution_count": 65,
   "id": "03e8e96d",
   "metadata": {},
   "outputs": [],
   "source": [
    "df=processed_df[feature]"
   ]
  },
  {
   "cell_type": "code",
   "execution_count": 66,
   "id": "4ce11524",
   "metadata": {},
   "outputs": [
    {
     "data": {
      "text/html": [
       "<div>\n",
       "<style scoped>\n",
       "    .dataframe tbody tr th:only-of-type {\n",
       "        vertical-align: middle;\n",
       "    }\n",
       "\n",
       "    .dataframe tbody tr th {\n",
       "        vertical-align: top;\n",
       "    }\n",
       "\n",
       "    .dataframe thead th {\n",
       "        text-align: right;\n",
       "    }\n",
       "</style>\n",
       "<table border=\"1\" class=\"dataframe\">\n",
       "  <thead>\n",
       "    <tr style=\"text-align: right;\">\n",
       "      <th></th>\n",
       "      <th>Gender</th>\n",
       "      <th>Blood Type</th>\n",
       "      <th>Age</th>\n",
       "      <th>Billing Amount</th>\n",
       "      <th>Room Number</th>\n",
       "    </tr>\n",
       "  </thead>\n",
       "  <tbody>\n",
       "    <tr>\n",
       "      <th>0</th>\n",
       "      <td>6.0</td>\n",
       "      <td>3.0</td>\n",
       "      <td>1.0</td>\n",
       "      <td>0.276298</td>\n",
       "      <td>-1.537734</td>\n",
       "    </tr>\n",
       "  </tbody>\n",
       "</table>\n",
       "</div>"
      ],
      "text/plain": [
       "   Gender  Blood Type  Age  Billing Amount  Room Number\n",
       "0     6.0         3.0  1.0        0.276298    -1.537734"
      ]
     },
     "execution_count": 66,
     "metadata": {},
     "output_type": "execute_result"
    }
   ],
   "source": [
    "df"
   ]
  },
  {
   "cell_type": "code",
   "execution_count": 90,
   "id": "7ed12449",
   "metadata": {},
   "outputs": [],
   "source": [
    "model=joblib.load(\"../models/model.pkl\")"
   ]
  },
  {
   "cell_type": "code",
   "execution_count": 70,
   "id": "f48f7d00",
   "metadata": {},
   "outputs": [],
   "source": [
    "output=model.predict(df)"
   ]
  },
  {
   "cell_type": "code",
   "execution_count": 71,
   "id": "635ce591",
   "metadata": {},
   "outputs": [],
   "source": [
    "label=joblib.load(\"../processpipe/target_pipe.pkl\")"
   ]
  },
  {
   "cell_type": "code",
   "execution_count": 75,
   "id": "563f4a24",
   "metadata": {},
   "outputs": [],
   "source": [
    "output=label.inverse_transform([output])"
   ]
  },
  {
   "cell_type": "code",
   "execution_count": 77,
   "id": "e2dc8daf",
   "metadata": {},
   "outputs": [
    {
     "data": {
      "text/plain": [
       "array([['Normal']], dtype=object)"
      ]
     },
     "execution_count": 77,
     "metadata": {},
     "output_type": "execute_result"
    }
   ],
   "source": [
    "output"
   ]
  },
  {
   "cell_type": "code",
   "execution_count": 79,
   "id": "895c6409",
   "metadata": {},
   "outputs": [],
   "source": [
    "data=pd.read_csv(\"../data/healthcare_dataset.csv\")"
   ]
  },
  {
   "cell_type": "code",
   "execution_count": 87,
   "id": "ff429704",
   "metadata": {},
   "outputs": [
    {
     "data": {
      "text/plain": [
       "['Paracetamol', 'Ibuprofen', 'Aspirin', 'Penicillin', 'Lipitor']"
      ]
     },
     "execution_count": 87,
     "metadata": {},
     "output_type": "execute_result"
    }
   ],
   "source": [
    "data['Medication'].unique().tolist()"
   ]
  },
  {
   "cell_type": "code",
   "execution_count": 85,
   "id": "f4bef573",
   "metadata": {},
   "outputs": [
    {
     "data": {
      "text/plain": [
       "[328,\n",
       " 265,\n",
       " 205,\n",
       " 450,\n",
       " 458,\n",
       " 389,\n",
       " 277,\n",
       " 316,\n",
       " 249,\n",
       " 394,\n",
       " 288,\n",
       " 134,\n",
       " 309,\n",
       " 182,\n",
       " 465,\n",
       " 114,\n",
       " 449,\n",
       " 260,\n",
       " 115,\n",
       " 295,\n",
       " 327,\n",
       " 119,\n",
       " 109,\n",
       " 162,\n",
       " 401,\n",
       " 157,\n",
       " 223,\n",
       " 293,\n",
       " 371,\n",
       " 108,\n",
       " 245,\n",
       " 494,\n",
       " 285,\n",
       " 228,\n",
       " 481,\n",
       " 212,\n",
       " 113,\n",
       " 272,\n",
       " 478,\n",
       " 196,\n",
       " 418,\n",
       " 410,\n",
       " 300,\n",
       " 211,\n",
       " 413,\n",
       " 138,\n",
       " 456,\n",
       " 234,\n",
       " 492,\n",
       " 180,\n",
       " 250,\n",
       " 296,\n",
       " 330,\n",
       " 405,\n",
       " 306,\n",
       " 333,\n",
       " 244,\n",
       " 325,\n",
       " 378,\n",
       " 468,\n",
       " 368,\n",
       " 263,\n",
       " 489,\n",
       " 241,\n",
       " 231,\n",
       " 377,\n",
       " 407,\n",
       " 135,\n",
       " 131,\n",
       " 102,\n",
       " 255,\n",
       " 422,\n",
       " 320,\n",
       " 273,\n",
       " 395,\n",
       " 152,\n",
       " 321,\n",
       " 428,\n",
       " 482,\n",
       " 268,\n",
       " 120,\n",
       " 318,\n",
       " 144,\n",
       " 226,\n",
       " 459,\n",
       " 208,\n",
       " 227,\n",
       " 402,\n",
       " 442,\n",
       " 425,\n",
       " 373,\n",
       " 290,\n",
       " 361,\n",
       " 251,\n",
       " 440,\n",
       " 414,\n",
       " 424,\n",
       " 307,\n",
       " 476,\n",
       " 388,\n",
       " 326,\n",
       " 178,\n",
       " 177,\n",
       " 302,\n",
       " 130,\n",
       " 430,\n",
       " 133,\n",
       " 104,\n",
       " 408,\n",
       " 376,\n",
       " 331,\n",
       " 275,\n",
       " 480,\n",
       " 233,\n",
       " 384,\n",
       " 380,\n",
       " 310,\n",
       " 406,\n",
       " 213,\n",
       " 427,\n",
       " 500,\n",
       " 451,\n",
       " 485,\n",
       " 267,\n",
       " 154,\n",
       " 466,\n",
       " 453,\n",
       " 261,\n",
       " 167,\n",
       " 179,\n",
       " 490,\n",
       " 258,\n",
       " 483,\n",
       " 202,\n",
       " 198,\n",
       " 308,\n",
       " 278,\n",
       " 103,\n",
       " 400,\n",
       " 192,\n",
       " 128,\n",
       " 238,\n",
       " 136,\n",
       " 218,\n",
       " 348,\n",
       " 486,\n",
       " 147,\n",
       " 126,\n",
       " 314,\n",
       " 271,\n",
       " 341,\n",
       " 498,\n",
       " 168,\n",
       " 189,\n",
       " 438,\n",
       " 286,\n",
       " 266,\n",
       " 392,\n",
       " 156,\n",
       " 315,\n",
       " 322,\n",
       " 184,\n",
       " 472,\n",
       " 398,\n",
       " 435,\n",
       " 174,\n",
       " 137,\n",
       " 111,\n",
       " 464,\n",
       " 117,\n",
       " 493,\n",
       " 183,\n",
       " 471,\n",
       " 164,\n",
       " 356,\n",
       " 497,\n",
       " 421,\n",
       " 488,\n",
       " 317,\n",
       " 247,\n",
       " 158,\n",
       " 242,\n",
       " 151,\n",
       " 221,\n",
       " 359,\n",
       " 370,\n",
       " 141,\n",
       " 343,\n",
       " 319,\n",
       " 121,\n",
       " 166,\n",
       " 397,\n",
       " 186,\n",
       " 299,\n",
       " 101,\n",
       " 142,\n",
       " 181,\n",
       " 282,\n",
       " 350,\n",
       " 262,\n",
       " 210,\n",
       " 391,\n",
       " 195,\n",
       " 214,\n",
       " 409,\n",
       " 279,\n",
       " 243,\n",
       " 106,\n",
       " 467,\n",
       " 176,\n",
       " 287,\n",
       " 124,\n",
       " 352,\n",
       " 165,\n",
       " 347,\n",
       " 354,\n",
       " 225,\n",
       " 357,\n",
       " 140,\n",
       " 404,\n",
       " 426,\n",
       " 236,\n",
       " 194,\n",
       " 188,\n",
       " 415,\n",
       " 185,\n",
       " 358,\n",
       " 390,\n",
       " 112,\n",
       " 283,\n",
       " 439,\n",
       " 123,\n",
       " 469,\n",
       " 230,\n",
       " 171,\n",
       " 484,\n",
       " 256,\n",
       " 365,\n",
       " 452,\n",
       " 172,\n",
       " 197,\n",
       " 110,\n",
       " 437,\n",
       " 419,\n",
       " 416,\n",
       " 461,\n",
       " 431,\n",
       " 105,\n",
       " 313,\n",
       " 385,\n",
       " 116,\n",
       " 386,\n",
       " 175,\n",
       " 270,\n",
       " 338,\n",
       " 360,\n",
       " 252,\n",
       " 215,\n",
       " 434,\n",
       " 374,\n",
       " 217,\n",
       " 366,\n",
       " 118,\n",
       " 387,\n",
       " 237,\n",
       " 355,\n",
       " 364,\n",
       " 169,\n",
       " 301,\n",
       " 463,\n",
       " 382,\n",
       " 232,\n",
       " 455,\n",
       " 462,\n",
       " 393,\n",
       " 423,\n",
       " 264,\n",
       " 289,\n",
       " 342,\n",
       " 292,\n",
       " 146,\n",
       " 193,\n",
       " 148,\n",
       " 441,\n",
       " 199,\n",
       " 216,\n",
       " 132,\n",
       " 475,\n",
       " 436,\n",
       " 403,\n",
       " 433,\n",
       " 206,\n",
       " 207,\n",
       " 375,\n",
       " 159,\n",
       " 304,\n",
       " 349,\n",
       " 396,\n",
       " 445,\n",
       " 276,\n",
       " 298,\n",
       " 129,\n",
       " 209,\n",
       " 420,\n",
       " 324,\n",
       " 443,\n",
       " 254,\n",
       " 470,\n",
       " 346,\n",
       " 496,\n",
       " 448,\n",
       " 280,\n",
       " 335,\n",
       " 411,\n",
       " 200,\n",
       " 312,\n",
       " 305,\n",
       " 345,\n",
       " 145,\n",
       " 203,\n",
       " 362,\n",
       " 454,\n",
       " 191,\n",
       " 339,\n",
       " 477,\n",
       " 219,\n",
       " 412,\n",
       " 379,\n",
       " 340,\n",
       " 170,\n",
       " 190,\n",
       " 363,\n",
       " 491,\n",
       " 487,\n",
       " 334,\n",
       " 125,\n",
       " 332,\n",
       " 224,\n",
       " 204,\n",
       " 323,\n",
       " 248,\n",
       " 297,\n",
       " 311,\n",
       " 201,\n",
       " 143,\n",
       " 107,\n",
       " 303,\n",
       " 329,\n",
       " 122,\n",
       " 337,\n",
       " 457,\n",
       " 274,\n",
       " 246,\n",
       " 294,\n",
       " 161,\n",
       " 336,\n",
       " 383,\n",
       " 187,\n",
       " 229,\n",
       " 291,\n",
       " 155,\n",
       " 173,\n",
       " 353,\n",
       " 281,\n",
       " 446,\n",
       " 399,\n",
       " 479,\n",
       " 429,\n",
       " 150,\n",
       " 253,\n",
       " 149,\n",
       " 369,\n",
       " 220,\n",
       " 127,\n",
       " 153,\n",
       " 474,\n",
       " 372,\n",
       " 381,\n",
       " 473,\n",
       " 351,\n",
       " 259,\n",
       " 257,\n",
       " 367,\n",
       " 222,\n",
       " 460,\n",
       " 447,\n",
       " 495,\n",
       " 344,\n",
       " 163,\n",
       " 139,\n",
       " 444,\n",
       " 284,\n",
       " 499,\n",
       " 432,\n",
       " 269,\n",
       " 160,\n",
       " 240,\n",
       " 239,\n",
       " 417,\n",
       " 235]"
      ]
     },
     "execution_count": 85,
     "metadata": {},
     "output_type": "execute_result"
    }
   ],
   "source": [
    "data['Room Number'].unique().tolist()"
   ]
  },
  {
   "cell_type": "code",
   "execution_count": 3,
   "id": "6d039139",
   "metadata": {},
   "outputs": [],
   "source": [
    "tp=joblib.load(r\"C:\\Users\\Avijit\\Desktop\\TEST\\processpipe\\target_pipe.pkl\")"
   ]
  },
  {
   "cell_type": "code",
   "execution_count": 8,
   "id": "527f9ea2",
   "metadata": {},
   "outputs": [
    {
     "data": {
      "text/plain": [
       "['Abnormal', 'Inconclusive', 'Normal']"
      ]
     },
     "execution_count": 8,
     "metadata": {},
     "output_type": "execute_result"
    }
   ],
   "source": [
    "tp.named_steps['LABELENCODING'].categories_[0].tolist()"
   ]
  }
 ],
 "metadata": {
  "kernelspec": {
   "display_name": "Python 3",
   "language": "python",
   "name": "python3"
  },
  "language_info": {
   "codemirror_mode": {
    "name": "ipython",
    "version": 3
   },
   "file_extension": ".py",
   "mimetype": "text/x-python",
   "name": "python",
   "nbconvert_exporter": "python",
   "pygments_lexer": "ipython3",
   "version": "3.10.11"
  }
 },
 "nbformat": 4,
 "nbformat_minor": 5
}
